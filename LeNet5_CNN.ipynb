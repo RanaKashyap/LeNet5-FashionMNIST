{
  "nbformat": 4,
  "nbformat_minor": 0,
  "metadata": {
    "colab": {
      "provenance": [],
      "collapsed_sections": []
    },
    "coursera": {
      "course_slug": "neural-networks-deep-learning",
      "graded_item_id": "XaIWT",
      "launcher_item_id": "zAgPl"
    },
    "kernelspec": {
      "display_name": "Python 3",
      "language": "python",
      "name": "python3"
    },
    "language_info": {
      "codemirror_mode": {
        "name": "ipython",
        "version": 3
      },
      "file_extension": ".py",
      "mimetype": "text/x-python",
      "name": "python",
      "nbconvert_exporter": "python",
      "pygments_lexer": "ipython3",
      "version": "3.8.5"
    },
    "gpuClass": "standard"
  },
  "cells": [
    {
      "cell_type": "markdown",
      "metadata": {
        "id": "lzo37yE6ejuA"
      },
      "source": [
        "# Convolution Neural Network \n",
        "\n",
        "Use LeNet-5, one of representative deep nueral networks, to solve a  classification problem with Fashion MNIST benchmark.\n"
      ]
    },
    {
      "cell_type": "markdown",
      "metadata": {
        "id": "tCxlJYlqejuM"
      },
      "source": [
        "\n",
        "\n",
        "### Library Preparation\n",
        "\n",
        "Import useful deep learning packages. \n",
        "\n"
      ]
    },
    {
      "cell_type": "code",
      "metadata": {
        "id": "e5enuEKHejuM"
      },
      "source": [
        "import numpy as np\n",
        "from tensorflow import keras\n",
        "from tensorflow.keras import layers\n",
        "import matplotlib.pyplot as plt\n",
        "%matplotlib inline"
      ],
      "execution_count": 1,
      "outputs": []
    },
    {
      "cell_type": "markdown",
      "metadata": {
        "id": "BUs3cBXXejuN"
      },
      "source": [
        "### Training Data Preparation\n",
        "\n",
        "Import useful packages and prepare Fashion MNIST data.\n",
        "\n",
        "**References**\n",
        "- Fashion MNIST https://github.com/zalandoresearch/fashion-mnist\n"
      ]
    },
    {
      "cell_type": "code",
      "metadata": {
        "id": "DjyfYiGrejuN",
        "colab": {
          "base_uri": "https://localhost:8080/",
          "height": 479
        },
        "outputId": "0dd01a7f-e99c-4afd-e9b0-5ffdb5bd0b6f"
      },
      "source": [
        "# the data, split between train and test sets with keras.datasets\n",
        "(x_train, y_train), (x_test, y_test) = keras.datasets.fashion_mnist.load_data()\n",
        "\n",
        "\n",
        "# Model / data parameters\n",
        "num_classes = 10\n",
        "input_shape = (32, 32, 1) \n",
        "\n",
        "# Image Normalization \n",
        "x_train = x_train.astype(\"float32\") / 255 \n",
        "x_test = x_test.astype(\"float32\") / 255 \n",
        "\n",
        "# Naming classifications\n",
        "class_names = ['T-shirt/top', 'Trouser', 'Pullover', 'Dress', 'Coat', 'Sandal', 'Shirt', 'Sneaker', 'Bag', 'Ankle boot']\n",
        "\n",
        "# Print out first image and its correponding label index\n",
        "image = x_train[0]\n",
        "fig = plt.figure\n",
        "plt.imshow(image, cmap='gray')\n",
        "plt.show()\n",
        "print(\"label:\", class_names[y_train[0]], \" index:\",y_train[0])\n",
        "\n",
        "# Dimension expansion to ensure that images have shape (28, 28, 1)\n",
        "x_train = np.expand_dims(x_train, -1)\n",
        "x_test = np.expand_dims(x_test, -1)\n",
        "\n",
        "# Conduct padding on training/test images to (32, 32, 1) for LeNet-5\n",
        "x_train = np.pad(x_train, ((0,0),(2,2),(2,2),(0,0)), 'constant')\n",
        "x_test = np.pad(x_test, ((0,0),(2,2),(2,2),(0,0)), 'constant')\n",
        "\n",
        "# Print out the training/test data shapes and the numbers of training/test samples\n",
        "print(\"x_train shape:\", x_train.shape) \n",
        "print(x_train.shape[0], \"train samples\")\n",
        "print(x_test.shape[0], \"test samples\")\n",
        "\n",
        "# convert label vectors to binary class matrices for training/test labels \n",
        "y_train = keras.utils.to_categorical(y_train, num_classes)\n",
        "y_test = keras.utils.to_categorical(y_test, num_classes)"
      ],
      "execution_count": 2,
      "outputs": [
        {
          "output_type": "stream",
          "name": "stdout",
          "text": [
            "Downloading data from https://storage.googleapis.com/tensorflow/tf-keras-datasets/train-labels-idx1-ubyte.gz\n",
            "29515/29515 [==============================] - 0s 1us/step\n",
            "Downloading data from https://storage.googleapis.com/tensorflow/tf-keras-datasets/train-images-idx3-ubyte.gz\n",
            "26421880/26421880 [==============================] - 1s 0us/step\n",
            "Downloading data from https://storage.googleapis.com/tensorflow/tf-keras-datasets/t10k-labels-idx1-ubyte.gz\n",
            "5148/5148 [==============================] - 0s 0us/step\n",
            "Downloading data from https://storage.googleapis.com/tensorflow/tf-keras-datasets/t10k-images-idx3-ubyte.gz\n",
            "4422102/4422102 [==============================] - 0s 0us/step\n"
          ]
        },
        {
          "output_type": "display_data",
          "data": {
            "text/plain": [
              "<Figure size 432x288 with 1 Axes>"
            ],
            "image/png": "[encoded data removed]"
          },
          "metadata": {
            "needs_background": "light"
          }
        },
        {
          "output_type": "stream",
          "name": "stdout",
          "text": [
            "label: Ankle boot  index: 9\n",
            "x_train shape: (60000, 32, 32, 1)\n",
            "60000 train samples\n",
            "10000 test samples\n"
          ]
        }
      ]
    },
    {
      "cell_type": "markdown",
      "metadata": {
        "id": "sw4GqzZmejuN"
      },
      "source": [
        "###  LeNet-5 \n",
        "\n",
        "Construct LeNet-5 as learning model for Fashion MNIST classification task.\n",
        "\n"
      ]
    },
    {
      "cell_type": "code",
      "metadata": {
        "id": "c97heiiSejuN",
        "colab": {
          "base_uri": "https://localhost:8080/"
        },
        "outputId": "535cc997-dea5-47cd-8121-31119dbc1b90"
      },
      "source": [
        "from tensorflow.keras import regularizers\n",
        "keras.backend.clear_session()\n",
        "\n",
        "model = keras.Sequential(\n",
        "    [\n",
        "        keras.Input(shape=input_shape),\n",
        "        layers.Conv2D(6, kernel_size=(5,5), kernel_regularizer=regularizers.l2(4e-5),  activation=\"relu\" ), #C1\n",
        "        layers.MaxPooling2D(pool_size=(2, 2)), # S2 Subsampling\n",
        "        layers.Conv2D(16, kernel_size=(5,5), kernel_regularizer=regularizers.l2(4e-5),  activation=\"relu\" ), # C3\n",
        "        layers.MaxPooling2D(pool_size=(2, 2)), # S4 Subsampling\n",
        "        layers.Flatten(), # Convert 2D convolution layer to 1D fully connected layer\n",
        "        layers.Dense(120, kernel_regularizer=regularizers.l2(4e-5),  activation=\"relu\" ), # C5\n",
        "        layers.Dense(84, kernel_regularizer=regularizers.l2(4e-5),  activation=\"relu\" ), # F6\n",
        "        layers.Dense(num_classes,  activation=\"softmax\" ), # OUTPUT\n",
        "    ]\n",
        ")\n",
        "\n",
        "model.summary()"
      ],
      "execution_count": 3,
      "outputs": [
        {
          "output_type": "stream",
          "name": "stdout",
          "text": [
            "Model: \"sequential\"\n",
            "_________________________________________________________________\n",
            " Layer (type)                Output Shape              Param #   \n",
            "=================================================================\n",
            " conv2d (Conv2D)             (None, 28, 28, 6)         156       \n",
            "                                                                 \n",
            " max_pooling2d (MaxPooling2D  (None, 14, 14, 6)        0         \n",
            " )                                                               \n",
            "                                                                 \n",
            " conv2d_1 (Conv2D)           (None, 10, 10, 16)        2416      \n",
            "                                                                 \n",
            " max_pooling2d_1 (MaxPooling  (None, 5, 5, 16)         0         \n",
            " 2D)                                                             \n",
            "                                                                 \n",
            " flatten (Flatten)           (None, 400)               0         \n",
            "                                                                 \n",
            " dense (Dense)               (None, 120)               48120     \n",
            "                                                                 \n",
            " dense_1 (Dense)             (None, 84)                10164     \n",
            "                                                                 \n",
            " dense_2 (Dense)             (None, 10)                850       \n",
            "                                                                 \n",
            "=================================================================\n",
            "Total params: 61,706\n",
            "Trainable params: 61,706\n",
            "Non-trainable params: 0\n",
            "_________________________________________________________________\n"
          ]
        }
      ]
    },
    {
      "cell_type": "markdown",
      "metadata": {
        "id": "VmVzUU9oejuO"
      },
      "source": [
        "#### LeNet-5 Model Training\n",
        "\n",
        "Train LeNet-5 model with specific training strategy.\n",
        "\n",
        "expect the **BEST** validation accuracy is above **87%** "
      ]
    },
    {
      "cell_type": "code",
      "metadata": {
        "id": "Mz-Cvsu8ejuO",
        "colab": {
          "base_uri": "https://localhost:8080/"
        },
        "outputId": "acd69207-83a5-4f35-9e27-03531912aacb"
      },
      "source": [
        "# Train with SGD optimizer with learning rate = 0.1, regularizer = 4e-5, momentum = 0.9, and nesterov = True\n",
        "\n",
        "batch_size = 64\n",
        "epochs = 10\n",
        "sgd = keras.optimizers.SGD(lr=0.1, momentum=0.9, nesterov=True)\n",
        "model.compile(loss=\"categorical_crossentropy\", optimizer=\"adam\", metrics=[\"accuracy\"])\n",
        "history = model.fit(x_train, y_train, batch_size=batch_size, epochs=epochs, validation_split=0.1)"
      ],
      "execution_count": 4,
      "outputs": [
        {
          "output_type": "stream",
          "name": "stderr",
          "text": [
            "/usr/local/lib/python3.7/dist-packages/keras/optimizers/optimizer_v2/gradient_descent.py:108: UserWarning: The `lr` argument is deprecated, use `learning_rate` instead.\n",
            "  super(SGD, self).__init__(name, **kwargs)\n"
          ]
        },
        {
          "output_type": "stream",
          "name": "stdout",
          "text": [
            "Epoch 1/10\n",
            "844/844 [==============================] - 50s 55ms/step - loss: 0.6040 - accuracy: 0.7823 - val_loss: 0.4561 - val_accuracy: 0.8382\n",
            "Epoch 2/10\n",
            "844/844 [==============================] - 35s 42ms/step - loss: 0.3933 - accuracy: 0.8621 - val_loss: 0.4059 - val_accuracy: 0.8598\n",
            "Epoch 3/10\n",
            "844/844 [==============================] - 37s 44ms/step - loss: 0.3462 - accuracy: 0.8800 - val_loss: 0.3597 - val_accuracy: 0.8752\n",
            "Epoch 4/10\n",
            "844/844 [==============================] - 34s 41ms/step - loss: 0.3180 - accuracy: 0.8896 - val_loss: 0.3169 - val_accuracy: 0.8897\n",
            "Epoch 5/10\n",
            "844/844 [==============================] - 34s 40ms/step - loss: 0.2970 - accuracy: 0.8966 - val_loss: 0.3119 - val_accuracy: 0.8955\n",
            "Epoch 6/10\n",
            "844/844 [==============================] - 35s 41ms/step - loss: 0.2791 - accuracy: 0.9036 - val_loss: 0.3025 - val_accuracy: 0.8970\n",
            "Epoch 7/10\n",
            "844/844 [==============================] - 35s 41ms/step - loss: 0.2657 - accuracy: 0.9096 - val_loss: 0.3146 - val_accuracy: 0.8930\n",
            "Epoch 8/10\n",
            "844/844 [==============================] - 35s 41ms/step - loss: 0.2540 - accuracy: 0.9124 - val_loss: 0.2958 - val_accuracy: 0.9010\n",
            "Epoch 9/10\n",
            "844/844 [==============================] - 34s 41ms/step - loss: 0.2425 - accuracy: 0.9163 - val_loss: 0.2879 - val_accuracy: 0.9067\n",
            "Epoch 10/10\n",
            "844/844 [==============================] - 34s 40ms/step - loss: 0.2305 - accuracy: 0.9231 - val_loss: 0.2978 - val_accuracy: 0.9022\n"
          ]
        }
      ]
    },
    {
      "cell_type": "code",
      "metadata": {
        "id": "Zi-xsLUiejuO",
        "colab": {
          "base_uri": "https://localhost:8080/"
        },
        "outputId": "8a8f401f-1da4-4a63-df32-45ecfad0e670"
      },
      "source": [
        "# Print out the evaluation results, including test loss and test accuracy.\n",
        "\n",
        "score = model.evaluate(x_test, y_test, verbose=0)\n",
        "print(\"Test loss:\", score[0])\n",
        "print(\"Test accuracy:\", score[1])"
      ],
      "execution_count": 5,
      "outputs": [
        {
          "output_type": "stream",
          "name": "stdout",
          "text": [
            "Test loss: 0.3154926896095276\n",
            "Test accuracy: 0.8949999809265137\n"
          ]
        }
      ]
    }
  ]
}